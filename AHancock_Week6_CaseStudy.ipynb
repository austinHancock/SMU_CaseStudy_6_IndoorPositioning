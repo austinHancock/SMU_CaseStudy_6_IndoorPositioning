{
 "cells": [
  {
   "cell_type": "markdown",
   "metadata": {},
   "source": [
    "# Indoor Positioning Systems\n",
    "## MSDS 7333 - Section 401\n",
    "## Case Study Week 6\n",
    "[Data Science @ Southern Methodist University](https://datascience.smu.edu/)\n",
    "\n",
    "### Due:\n",
    "18 June 2018\n"
   ]
  },
  {
   "cell_type": "markdown",
   "metadata": {},
   "source": [
    "### Table of Contents\n",
    "* [Team Members](#Team-Members)\n",
    "* [Abstract](#Abstract)\n",
    "* [Introduction](#Introduction)\n",
    "* [Methods](#Methods)\n",
    "* [Results](#Results)\n",
    "* [Conclusion](#Conclusion)\n",
    "* [References](#References)"
   ]
  },
  {
   "cell_type": "markdown",
   "metadata": {},
   "source": [
    "### <a name=\"Team-Members\"></a>Team Members\n",
    "* Kevin Cannon\n",
    "* Austin Hancock"
   ]
  },
  {
   "cell_type": "markdown",
   "metadata": {},
   "source": [
    "### <a name=\"Abstract\"></a>Abstract"
   ]
  },
  {
   "cell_type": "markdown",
   "metadata": {
    "collapsed": true
   },
   "source": [
    "Analyze real-time location system data to determine locations of routers within a network. Use k-nearest neighbor function to predict observation location using weighted signal strengths."
   ]
  },
  {
   "cell_type": "markdown",
   "metadata": {},
   "source": [
    "### <a name=\"Introduction\"></a>Introduction"
   ]
  },
  {
   "cell_type": "markdown",
   "metadata": {
    "collapsed": true
   },
   "source": [
    "Wireless networking has allowed us to bypass Global Positioning Systems (GPS) in spaces where the signals do not reliably work. Indoor Position Systems (IPS), which use wireless local area networks (LAN), use WiFi signals from network access points to determine near real-time information about connected devices. Initial IPS construction requires reference data that contains spatial and signal strength information around a fixed set of access points, known as routers. Once the training data is analyzed, a model can be created to predict the location of a new, unknown device that is connected to the IPS as a function of the detected signal strength.\n",
    "\n",
    "The data for this case study was taken from the companion website for the 'Data Science in R' book written by Nolan and Lang, which is referenced below in the [References](#References) section. To summarize, the raw data was taken from a Community Resource for Archiving Wireless Data At Dartmouth (CRAWDAD) site. The reference data set is termed the \"offline\" data set and is used to train our prediction model. The data \"contains signal strengths measured using a hand-held device on a grid of 166 points spaced 1 meter apart in the hallways of one floor of a building at the University of Mannheim. The floor plan, which measures about 15 meters by 36 meters, is displayed in Figure 1.1\" (Nolan & Lang, 4). The grid can be seen below.\n",
    "\n",
    "<img src='http://www.rdatasciencecases.org/GeoLoc/images/building.png'>\n",
    "\n",
    "Additionally, x, y, and orientation information about the hand-held device is included in the data set. In total, 110 signal strength measurements were taken at 8 circular orientations (45 degrees separated) to each of the 6 access points on the figure above. The media access control (MAC) lists the MAC address of the hardware, which gives a unique identifier to a piece of hardware on a network.\n",
    "\n",
    "The format of the data is as follows:\n",
    "* t=\"Timestamp\";\n",
    "* id=\"MACofScanDevice\";\n",
    "* pos=\"RealPosition\";\n",
    "* degree=\"orientation\";\n",
    "* MACofResponse1=\"SignalStrengthValue,Frequency,Mode\"; ...\n",
    "* MACofResponseN=\"SignalStrengthValue,Frequency,Mode\"\n",
    "\n",
    "A real-time location system (RTLS) is a system which uses wireless technologies to determine the location of a target in real-time. With the proliferation of IoT (internet of things) enabled devices in recent years, the ability to gather RTLS data indoors has increased significantly. To correctly gather and use this RTLS data, it is important to both understand the monitoring technology being used and how the location of a target is determined.\n",
    "\n",
    "In this case study, we will be analyzing data gathered through an IPS comprised of a number of routers within a single floor of a building. We will be creating a model to predict an observation's location based on the signal strength, in dB, and angle of the observation in relation to the 6 access points within the IPS."
   ]
  },
  {
   "cell_type": "markdown",
   "metadata": {},
   "source": [
    "### <a name=\"Methods\"></a>Methods"
   ]
  },
  {
   "cell_type": "markdown",
   "metadata": {},
   "source": [
    "To begin, we create the functions to pull in the RTLS data, clean it, and reshape it so that we can perform our analysis."
   ]
  },
  {
   "cell_type": "code",
   "execution_count": 1,
   "metadata": {},
   "outputs": [],
   "source": [
    "# Set rounding to 2 digits\n",
    "options(digits = 2)\n",
    "\n",
    "# Now that we know how to separate the data, we create a function so we can apply to all rows in the txt file\n",
    "# Second iteration of function to correct for errors\n",
    "# This function will so we can repeat the operation for each row of the input file\n",
    "processLine = function(x)\n",
    "{\n",
    "  tokens = strsplit(x, \"[;=,]\")[[1]] #splits the lines at semicolons, equals signs, & commas\n",
    "  \n",
    "  if (length(tokens) == 10) \n",
    "    return(NULL)\n",
    " \n",
    "  tmp = matrix(tokens[ - (1:10) ], , 4, byrow = TRUE)\n",
    "  #bind columns with the values from the first ten entries\n",
    "  cbind(matrix(tokens[c(2, 4, 6:8, 10)], nrow(tmp), 6, \n",
    "               byrow = TRUE), tmp)\n",
    "}\n",
    "\n",
    "# Create function to convert orientation values to proper orientation bin\n",
    "roundOrientation = function(angles) {\n",
    "  refs = seq(0, by = 45, length  = 9)\n",
    "  q = sapply(angles, function(o) which.min(abs(o - refs)))\n",
    "  c(refs[1:8], 0)[q]\n",
    "}\n",
    "\n",
    "# Function to pull in data of MACs we need to address, clean and reshape data\n",
    "# Returns dataset we will analyze as 'offline'\n",
    "readData = \n",
    "  function(filename = 'http://rdatasciencecases.org/Data/offline.final.trace.txt', \n",
    "           subMacs = c(\"00:0f:a3:39:e1:c0\", \"00:0f:a3:39:dd:cd\", \"00:14:bf:b1:97:8a\",\n",
    "                       \"00:14:bf:3b:c7:c6\", \"00:14:bf:b1:97:90\", \"00:14:bf:b1:97:8d\",\n",
    "                       \"00:14:bf:b1:97:81\"))\n",
    "  {\n",
    "    txt = readLines(filename) #search the file for lines that begin with # character\n",
    "    lines = txt[ substr(txt, 1, 1) != \"#\" ] #locate lines that begin with # and tally them\n",
    "    tmp = lapply(lines, processLine) # process through all lines of data\n",
    "    #stack matrices together\n",
    "    offline = as.data.frame(do.call(\"rbind\", tmp), \n",
    "                            stringsAsFactors= FALSE) \n",
    "    \n",
    "    #Add names to variables\n",
    "    names(offline) = c(\"time\", \"scanMac\", \n",
    "                       \"posX\", \"posY\", \"posZ\", \"orientation\", \n",
    "                       \"mac\", \"signal\", \"channel\", \"type\")\n",
    "    \n",
    "     # keep only signals from access points\n",
    "    offline = offline[ offline$type == \"3\", ]\n",
    "    \n",
    "    # drop scanMac, posZ, channel, and type - no info in them\n",
    "    dropVars = c(\"scanMac\", \"posZ\", \"channel\", \"type\")\n",
    "    offline = offline[ , !( names(offline) %in% dropVars ) ]\n",
    "    \n",
    "    # drop more unwanted access points - some access points are not near the testing area\n",
    "    #   or were only active for a short period of time\n",
    "    offline = offline[ offline$mac %in% subMacs, ]\n",
    "    \n",
    "    # convert numeric values\n",
    "    numVars = c(\"time\", \"posX\", \"posY\", \"orientation\", \"signal\")\n",
    "    offline[ numVars ] = lapply(offline[ numVars ], as.numeric)\n",
    "\n",
    "    # convert time to POSIX\n",
    "    offline$rawTime = offline$time\n",
    "    offline$time = offline$time/1000\n",
    "    class(offline$time) = c(\"POSIXt\", \"POSIXct\")\n",
    "    \n",
    "    # round orientations to nearest 45\n",
    "    offline$angle = roundOrientation(offline$orientation)\n",
    "      \n",
    "    return(offline)\n",
    "  }"
   ]
  },
  {
   "cell_type": "markdown",
   "metadata": {},
   "source": [
    "Assign data to variable 'offline'."
   ]
  },
  {
   "cell_type": "code",
   "execution_count": 12,
   "metadata": {},
   "outputs": [],
   "source": [
    "# Read in offline data \n",
    "offline = readData()"
   ]
  },
  {
   "cell_type": "markdown",
   "metadata": {},
   "source": [
    "Next we collect summary statistics for all locations, angles, and access points."
   ]
  },
  {
   "cell_type": "code",
   "execution_count": 13,
   "metadata": {},
   "outputs": [],
   "source": [
    "# It would take too many graphs to look at all of the locations, so we will use summary statistics\n",
    "## mean and standard deviation, median and IQR\n",
    "\n",
    "# Create a special factor that contains all unique (x,y) pairs for the 166 locations\n",
    "offline$posXY = paste(offline$posX, offline$posY, sep = \"-\")\n",
    "\n",
    "# Create a list of data frames for each combination of (x,y), angle, and access point\n",
    "byLocAngleAP = with(offline, by(offline, list(posXY, angle, mac), function(x) x))\n",
    "\n",
    "# Calculate summary statistics on each of the dataframes\n",
    "signalSummary = \n",
    "  lapply(byLocAngleAP,            \n",
    "         function(oneLoc) {\n",
    "           ans = oneLoc[1, ]\n",
    "           ans$medSignal = median(oneLoc$signal)\n",
    "           ans$avgSignal = mean(oneLoc$signal)\n",
    "           ans$num = length(oneLoc$signal)\n",
    "           ans$sdSignal = sd(oneLoc$signal)\n",
    "           ans$iqrSignal = IQR(oneLoc$signal)\n",
    "           ans\n",
    "           })\n",
    "offlineSummary = do.call(\"rbind\", signalSummary)"
   ]
  },
  {
   "cell_type": "markdown",
   "metadata": {},
   "source": [
    "Create a function to build contour maps and parameterize MAC address, angle, and others, if we desire."
   ]
  },
  {
   "cell_type": "code",
   "execution_count": 14,
   "metadata": {},
   "outputs": [],
   "source": [
    "surfaceSS = function(data, mac, angle = 45) {\n",
    "  require(fields)\n",
    "  oneAPAngle = data[ data$mac == mac & data$angle == angle, ]\n",
    "  smoothSS = Tps(oneAPAngle[, c(\"posX\",\"posY\")], \n",
    "                 oneAPAngle$avgSignal)\n",
    "  vizSmooth = predictSurface(smoothSS)\n",
    "  plot.surface(vizSmooth, type = \"C\", main=mac,\n",
    "               xlab = \"\", ylab = \"\", xaxt = \"n\", yaxt = \"n\")\n",
    "  points(oneAPAngle$posX, oneAPAngle$posY, pch=19, cex = 0.5) \n",
    "}"
   ]
  },
  {
   "cell_type": "markdown",
   "metadata": {},
   "source": [
    "Keep only MAC addresses that we want to investigate."
   ]
  },
  {
   "cell_type": "code",
   "execution_count": 15,
   "metadata": {},
   "outputs": [],
   "source": [
    "subMacs = c(\"00:0f:a3:39:e1:c0\", \"00:0f:a3:39:dd:cd\", \"00:14:bf:b1:97:8a\",\n",
    "            \"00:14:bf:3b:c7:c6\", \"00:14:bf:b1:97:90\", \"00:14:bf:b1:97:8d\",\n",
    "            \"00:14:bf:b1:97:81\")"
   ]
  },
  {
   "cell_type": "markdown",
   "metadata": {},
   "source": [
    "We then look at contour plots of the signal strengths recieved by different access points. We modify the plotting parameters so we can place four contour plots on one canvas."
   ]
  },
  {
   "cell_type": "code",
   "execution_count": 45,
   "metadata": {},
   "outputs": [],
   "source": [
    "# Parameters for plot layout, saved in a new variable\n",
    "parCur = par(mfrow = c(2, 2), mar = rep(1, 4))\n",
    "\n",
    "# Create plots by calling the surfaceSS function four times\n",
    "mapply(surfaceSS, mac = subMacs[rep(c(2, 1), each = 2)], \n",
    "      angle = rep(c(0, 135), 2),\n",
    "      data = list(data = offlineSummary))\n",
    "\n",
    "# Reset plot parameters\n",
    "par(parCur)"
   ]
  },
  {
   "cell_type": "markdown",
   "metadata": {},
   "source": [
    "> From these plots, we can identify the location of the access points as the dark red regions in the contour maps. We know the general locations of the access points based on the floor plan of the building, but we do not have a mapping between the MAC addresses and access points. The two top maps are for the access point \"00:0f:a3:39:dd:cd\" at angle 0 on the left, and angle 135 on the right. Similarly, the bottom two contour heat maps represent the signal strength for the \"00:0f:a3:39:e1:c0\" at the same two angles, respectively.\n",
    "\n",
    "> Two MAC adresses have similar heat maps which both correspond to the access point centrally located in the left half of the building, based to the building diagram in Figure 1. Additionally, a corridor effect can be found, whereas the signal is stronger north and south where the signals are less blocked by walls. We will need to investigate these two MACs to determine which one belongs to this access point at this location."
   ]
  },
  {
   "cell_type": "markdown",
   "metadata": {},
   "source": [
    "When determining which MAC address to use, we will be looking at both the contour plots of signal strength and prediction errors from a k-nearest neighbor model. \n",
    "\n",
    "From the contour plots above, the \"00:0f:a3:39:e1:c0\" MAC address records much better signal strength than the \"00:0f:a3:39:dd:cd\" address, with a signal strength of -48 and -50 dBs compared to -60 and -60 dBs, respectively. This is a strong indicator that we should use the \"c0\" address for our IPS, but we will also look at how each MAC address effects the predictive capabilities of our kNN model.\n",
    "\n",
    "Below, we look at the effects of each MAC address separately on our kNN model by first removing the \"00:0f:a3:39:e1:c0\" MAC address and then removing the \"00:0f:a3:39:dd:cd\" MAC address and comparing errors in predictions."
   ]
  },
  {
   "cell_type": "code",
   "execution_count": 17,
   "metadata": {},
   "outputs": [],
   "source": [
    "# Since these two appear to correspond to the same access point we will need to remove one\n",
    "## Note: Test effect of removing one MAC or the other, or both MACs\n",
    "#offlineSummary = subset(offlineSummary, mac != subMacs[1]) # remove \"00:0f:a3:39:e1:c0\"\n",
    "## Errors in predictions: 250\n",
    "offlineSummary = subset(offlineSummary, mac != subMacs[2]) # remove \"00:0f:a3:39:dd:cd\"\n",
    "## Errors in predictions: 276"
   ]
  },
  {
   "cell_type": "markdown",
   "metadata": {},
   "source": [
    "Now the we have aquired the 6 MAC addresses for the 6 access points we can create a matrix with the positions for the 6 access points."
   ]
  },
  {
   "cell_type": "code",
   "execution_count": 18,
   "metadata": {},
   "outputs": [],
   "source": [
    "#Create a small matrix with the relevant positions for the 6 access oints on the floor plan\n",
    "AP = matrix(c(7.5, 6.3,\n",
    "              2.5, -0.8, \n",
    "              12.8, -2.8,\n",
    "              1.0, 14.0,\n",
    "              33.5, 9.3,\n",
    "              33.5, 2.8),\n",
    "            ncol = 2, byrow = TRUE,\n",
    "            dimnames = list(subMacs[-2], c(\"x\", \"y\"))) \n",
    "    # subMacs[-1] to ignore 00:0f:a3:39:e1:c0\n",
    "    # subMacs[-2] to ignore 00:0f:a3:39:dd:cd"
   ]
  },
  {
   "cell_type": "markdown",
   "metadata": {},
   "source": [
    "Process raw data for 'online' variable."
   ]
  },
  {
   "cell_type": "code",
   "execution_count": 19,
   "metadata": {},
   "outputs": [],
   "source": [
    "macs = unique(offlineSummary$mac)\n",
    "online = readData(\"http://rdatasciencecases.org/Data/online.final.trace.txt\", subMacs = macs)"
   ]
  },
  {
   "cell_type": "markdown",
   "metadata": {},
   "source": [
    "Create unique location identifier for online data."
   ]
  },
  {
   "cell_type": "code",
   "execution_count": 20,
   "metadata": {},
   "outputs": [],
   "source": [
    "online$posXY = paste(online$posX, online$posY, sep = \"-\")"
   ]
  },
  {
   "cell_type": "markdown",
   "metadata": {},
   "source": [
    "Format data into 6 columns of signal strengths (one for each access point)."
   ]
  },
  {
   "cell_type": "code",
   "execution_count": 21,
   "metadata": {},
   "outputs": [],
   "source": [
    "keepVars = c(\"posXY\", \"posX\", \"posY\", \"orientation\", \"angle\")\n",
    "byLoc = with(online,\n",
    "             by(online, list(posXY),\n",
    "                function(x){\n",
    "                    ans = x[1, keepVars]\n",
    "                    avgSS = tapply(x$signal, x$mac, mean)\n",
    "                    y = matrix(avgSS, nrow = 1, ncol = 6, \n",
    "                               dimnames = list(ans$posXY, names(avgSS)))\n",
    "                    cbind(ans, y)\n",
    "                }))\n",
    "onlineSummary = do.call(\"rbind\", byLoc)"
   ]
  },
  {
   "cell_type": "markdown",
   "metadata": {},
   "source": [
    "Adjust orientation."
   ]
  },
  {
   "cell_type": "code",
   "execution_count": 22,
   "metadata": {},
   "outputs": [],
   "source": [
    "m = 3; angleNewObs = 230\n",
    "refs = seq(0, by = 45, length  = 8)\n",
    "nearestAngle = roundOrientation(angleNewObs)\n",
    "  \n",
    "if (m %% 2 == 1) {\n",
    "  angles = seq(-45 * (m - 1) /2, 45 * (m - 1) /2, length = m)\n",
    "} else {\n",
    "  m = m + 1\n",
    "  angles = seq(-45 * (m - 1) /2, 45 * (m - 1) /2, length = m)\n",
    "  if (sign(angleNewObs - nearestAngle) > -1) \n",
    "    angles = angles[ -1 ]\n",
    "  else \n",
    "    angles = angles[ -m ]\n",
    "}"
   ]
  },
  {
   "cell_type": "markdown",
   "metadata": {},
   "source": [
    "Map angles to values in refs (e.g. -45 maps to 335, 405 maps to 45)."
   ]
  },
  {
   "cell_type": "code",
   "execution_count": 23,
   "metadata": {},
   "outputs": [],
   "source": [
    "# Need to adjust angles\n",
    "angles = angles + nearestAngle\n",
    "angles[angles < 0] = angles[angles < 0 ] + 360\n",
    "angles[angles > 360] = angles[angles > 360] - 360"
   ]
  },
  {
   "cell_type": "markdown",
   "metadata": {},
   "source": [
    "We then select the observations from offlineSummary that we will analyze."
   ]
  },
  {
   "cell_type": "code",
   "execution_count": 24,
   "metadata": {},
   "outputs": [],
   "source": [
    "offlineSubset = offlineSummary[offlineSummary$angle %in% angles,]"
   ]
  },
  {
   "cell_type": "markdown",
   "metadata": {},
   "source": [
    "Below we create a function to aggregate the signal strengths from above angles and create data structure. "
   ]
  },
  {
   "cell_type": "code",
   "execution_count": 25,
   "metadata": {},
   "outputs": [],
   "source": [
    "reshapeSS = function(data, varSignal = \"signal\", keepVars = c(\"posXY\", \"posX\", \"posY\")){\n",
    "    byLocation = with(data, by(data, list(posXY),\n",
    "                           function(x){\n",
    "                               ans = x[1, keepVars]\n",
    "                               avgSS = tapply(x[, varSignal], x$mac, mean)\n",
    "                               y = matrix(avgSS, nrow = 1, ncol = 6, \n",
    "                                          dimnames = list(ans$posXY,\n",
    "                                                          names(avgSS)))\n",
    "                               cbind(ans, y)\n",
    "                           }))\n",
    "     newDataSS = do.call(\"rbind\", byLocation)\n",
    "     return(newDataSS)\n",
    "    }"
   ]
  },
  {
   "cell_type": "markdown",
   "metadata": {},
   "source": [
    "Summarize and reshape offlineSubset."
   ]
  },
  {
   "cell_type": "code",
   "execution_count": 26,
   "metadata": {},
   "outputs": [],
   "source": [
    "trainSS = reshapeSS(offlineSubset, varSignal = \"avgSignal\")"
   ]
  },
  {
   "cell_type": "markdown",
   "metadata": {},
   "source": [
    "Create function to select angles and call to reshapeSS."
   ]
  },
  {
   "cell_type": "code",
   "execution_count": 27,
   "metadata": {},
   "outputs": [],
   "source": [
    "selectTrain = function(angleNewObs, signals = NULL, m = 1){\n",
    "  # angleNewObs is the angle of the new observation\n",
    "  # signals is the training data (data in the format of offlineSummary)\n",
    "  # m is the number of angles to keep between 1 and 5 (the angles to include from signals)\n",
    "  refs = seq(0, by = 45, length  = 8)\n",
    "  nearestAngle = roundOrientation(angleNewObs)\n",
    "  \n",
    "  if (m %% 2 == 1) \n",
    "    angles = seq(-45 * (m - 1) /2, 45 * (m - 1) /2, length = m)\n",
    "  else {\n",
    "    m = m + 1\n",
    "    angles = seq(-45 * (m - 1) /2, 45 * (m - 1) /2, length = m)\n",
    "    if (sign(angleNewObs - nearestAngle) > -1) \n",
    "      angles = angles[ -1 ]\n",
    "    else \n",
    "      angles = angles[ -m ]\n",
    "  }\n",
    "  angles = angles + nearestAngle\n",
    "  angles[angles < 0] = angles[ angles < 0 ] + 360\n",
    "  angles[angles > 360] = angles[ angles > 360 ] - 360\n",
    "  angles = sort(angles) \n",
    "  \n",
    "  offlineSubset = signals[ signals$angle %in% angles, ]\n",
    "  reshapeSS(offlineSubset, varSignal = \"avgSignal\")\n",
    "}"
   ]
  },
  {
   "cell_type": "markdown",
   "metadata": {},
   "source": [
    "Create functions for our kNN model and error calculator."
   ]
  },
  {
   "cell_type": "code",
   "execution_count": 28,
   "metadata": {},
   "outputs": [],
   "source": [
    "# Finding the Nearest Neighbors\n",
    "findNN = function(newSignal, trainSubset) {\n",
    "  diffs = apply(trainSubset[ , 4:9], 1, \n",
    "                function(x) x - newSignal)\n",
    "  dists = apply(diffs, 2, function(x) sqrt(sum(x^2)) )\n",
    "  closest = order(dists)\n",
    "  return(trainSubset[closest, 1:3 ])\n",
    "}\n",
    "                                                         \n",
    "# Faster function\n",
    "predXY = function(newSignals, newAngles, trainData, \n",
    "                  numAngles = 1, k = 3){\n",
    "  \n",
    "  closeXY = list(length = nrow(newSignals))\n",
    "  \n",
    "  for (i in 1:nrow(newSignals)) {\n",
    "    trainSS = selectTrain(newAngles[i], trainData, m = numAngles)\n",
    "    closeXY[[i]] = findNN(newSignal = as.numeric(newSignals[i, ]),\n",
    "                           trainSS)\n",
    "  }\n",
    "\n",
    "  estXY = lapply(closeXY, function(x)\n",
    "                            sapply(x[ , 2:3], \n",
    "                                    function(x) mean(x[1:k])))\n",
    "  estXY = do.call(\"rbind\", estXY)\n",
    "  return(estXY)\n",
    "}\n",
    "                                   \n",
    "# Calculate error\n",
    "calcError = \n",
    "function(estXY, actualXY) \n",
    "   sum( rowSums( (estXY - actualXY)^2) )\n",
    "actualXY = onlineSummary[ , c(\"posX\", \"posY\")]"
   ]
  },
  {
   "cell_type": "code",
   "execution_count": 29,
   "metadata": {},
   "outputs": [
    {
     "name": "stderr",
     "output_type": "stream",
     "text": [
      "Warning message in matrix(permuteLocs, ncol = v, nrow = floor(length(permuteLocs)/v)):\n",
      "\"data length [166] is not a sub-multiple or multiple of the number of rows [15]\""
     ]
    }
   ],
   "source": [
    "# Cross-Validation and Choice of k\n",
    "\n",
    "v = 11\n",
    "permuteLocs = sample(unique(offlineSummary$posXY))\n",
    "permuteLocs = matrix(permuteLocs, ncol = v, \n",
    "                     nrow = floor(length(permuteLocs)/v))"
   ]
  },
  {
   "cell_type": "code",
   "execution_count": 30,
   "metadata": {},
   "outputs": [],
   "source": [
    "onlineFold = subset(offlineSummary, posXY %in% permuteLocs[,1])"
   ]
  },
  {
   "cell_type": "code",
   "execution_count": 31,
   "metadata": {},
   "outputs": [],
   "source": [
    "reshapeSS = function(data, varSignal = \"signal\", \n",
    "                     keepVars = c(\"posXY\", \"posX\",\"posY\"),\n",
    "                     sampleAngle = FALSE, \n",
    "                     refs = seq(0, 315, by = 45)) {\n",
    "  byLocation =\n",
    "    with(data, by(data, list(posXY), \n",
    "                  function(x) {\n",
    "                    if (sampleAngle) {\n",
    "                      x = x[x$angle == sample(refs, size = 1), ]}\n",
    "                    ans = x[1, keepVars]\n",
    "                    avgSS = tapply(x[ , varSignal ], x$mac, mean)\n",
    "                    y = matrix(avgSS, nrow = 1, ncol = 6, \n",
    "                               dimnames = list(ans$posXY,\n",
    "                                               names(avgSS)))\n",
    "                    cbind(ans, y)\n",
    "                  }))\n",
    "\n",
    "  newDataSS = do.call(\"rbind\", byLocation)\n",
    "  return(newDataSS)\n",
    "}"
   ]
  },
  {
   "cell_type": "markdown",
   "metadata": {},
   "source": [
    "Remove extra MAC address and apply reshapeSS function to collect summary data."
   ]
  },
  {
   "cell_type": "code",
   "execution_count": 32,
   "metadata": {},
   "outputs": [],
   "source": [
    "offline = offline[ offline$mac != \"00:0f:a3:39:dd:cd\", ] # Change when testing MACs\n",
    "\n",
    "keepVars = c(\"posXY\", \"posX\",\"posY\", \"orientation\", \"angle\")\n",
    "\n",
    "onlineCVSummary = reshapeSS(offline, keepVars = keepVars, \n",
    "                            sampleAngle = TRUE)"
   ]
  },
  {
   "cell_type": "code",
   "execution_count": 33,
   "metadata": {},
   "outputs": [],
   "source": [
    "onlineFold = subset(onlineCVSummary, \n",
    "                    posXY %in% permuteLocs[ , 1])\n",
    "\n",
    "offlineFold = subset(offlineSummary,\n",
    "                     posXY %in% permuteLocs[ , -1])\n",
    "\n",
    "estFold = predXY(newSignals = onlineFold[ , 6:11], \n",
    "                 newAngles = onlineFold[ , 4], \n",
    "                 offlineFold, numAngles = 3, k = 3)\n",
    "\n",
    "actualFold = onlineFold[ , c(\"posX\", \"posY\")]"
   ]
  },
  {
   "cell_type": "code",
   "execution_count": 34,
   "metadata": {},
   "outputs": [],
   "source": [
    "K = 20\n",
    "err = rep(0, K)\n",
    "\n",
    "for (j in 1:v) {\n",
    "  onlineFold = subset(onlineCVSummary, \n",
    "                      posXY %in% permuteLocs[ , j])\n",
    "  offlineFold = subset(offlineSummary,\n",
    "                       posXY %in% permuteLocs[ , -j])\n",
    "  actualFold = onlineFold[ , c(\"posX\", \"posY\")]\n",
    "  \n",
    "  for (k in 1:K) {\n",
    "    estFold = predXY(newSignals = onlineFold[ , 6:11], \n",
    "                     newAngles = onlineFold[ , 4], \n",
    "                     offlineFold, numAngles = 3, k = k)\n",
    "    err[k] = err[k] + calcError(estFold, actualFold)\n",
    "  }\n",
    "}"
   ]
  },
  {
   "cell_type": "code",
   "execution_count": 37,
   "metadata": {},
   "outputs": [],
   "source": [
    "oldPar = par(mar = c(4, 3, 1, 1))\n",
    "plot(y = err, x = (1:K),  type = \"l\", lwd= 2,\n",
    "     ylim = c(1100, 2100),\n",
    "     xlab = \"Number of Neighbors\",\n",
    "     ylab = \"Sum of Square Errors\")\n",
    "\n",
    "rmseMin = min(err)\n",
    "kMin = which(err == rmseMin)[1]\n",
    "segments(x0 = 0, x1 = kMin, y0 = rmseMin, col = gray(0.4), \n",
    "         lty = 2, lwd = 2)\n",
    "segments(x0 = kMin, x1 = kMin, y0 = 1100,  y1 = rmseMin, \n",
    "         col = grey(0.4), lty = 2, lwd = 2)\n",
    "\n",
    "text(x = kMin - 2, y = rmseMin + 40, \n",
    "     label = as.character(round(rmseMin)), col = grey(0.4))\n",
    "par(oldPar)\n",
    "dev.off()"
   ]
  },
  {
   "cell_type": "code",
   "execution_count": 36,
   "metadata": {},
   "outputs": [],
   "source": [
    "estXYk5 = predXY(newSignals = onlineSummary[ , 6:11],  \n",
    "                 newAngles = onlineSummary[ , 4], \n",
    "                 offlineSummary, numAngles = 3, k = 5)"
   ]
  },
  {
   "cell_type": "code",
   "execution_count": 38,
   "metadata": {},
   "outputs": [
    {
     "data": {
      "text/html": [
       "275.5083"
      ],
      "text/latex": [
       "275.5083"
      ],
      "text/markdown": [
       "275.5083"
      ],
      "text/plain": [
       "[1] 276"
      ]
     },
     "metadata": {},
     "output_type": "display_data"
    }
   ],
   "source": [
    "# Count errors in our predictions\n",
    "calcError(estXYk5, actualXY)"
   ]
  },
  {
   "cell_type": "markdown",
   "metadata": {},
   "source": [
    "After running both MAC addresses through our model, we see that the \"00:0f:a3:39:dd:cd\" address performed better, but only slightly (250 errors against 276). Since the difference in predictive capability between the use of either MAC address is marginal, we will use the \"00:0f:a3:39:e1:c0\" address due to its greater signal strength and larger number of observations."
   ]
  },
  {
   "cell_type": "markdown",
   "metadata": {},
   "source": [
    "Now that we have made our selection of the MAC addresses for each access point, we will next analyze the effect on predictions of weighting our model using signal strength. By adding weight, we are giving more power to closer access points in terms of the location calculation."
   ]
  },
  {
   "cell_type": "markdown",
   "metadata": {},
   "source": [
    "To determine the effect that weighting this variable has, we first need to modify our prediction function. Below, we update the assignment of estXY from returning a simple average to returning a weighted average that is inversely proportional to the distance in signal strength from the test observation. This assigns more weight to stronger signals by saying that as signal strength increases, it's distance decreases in terms of our location calculation."
   ]
  },
  {
   "cell_type": "code",
   "execution_count": 39,
   "metadata": {},
   "outputs": [],
   "source": [
    "# Edit functions to include weights for k=3\n",
    "findNN_inverse = function(newSignal, trainSubset) {\n",
    "  # For each MAC, subtract new signal strength from MAC signal strength\n",
    "  diffs = apply(trainSubset[ , 4:9], 1, \n",
    "                function(x) \n",
    "                    (\n",
    "                        (1/(sort(x,partial=length(x))[length(x)]))/\n",
    "                         (\n",
    "                             (1/(sort(x,partial=length(x))[length(x)]))+\n",
    "                             (1/(sort(x,partial=length(x)-1)[length(x)-1])) +\n",
    "                             (1/(sort(x,partial=length(x)-2)[length(x)-2]))\n",
    "                        ) +\n",
    "                        ((1/(sort(x,partial=length(x)-1)[length(x)-1])))/\n",
    "                         (\n",
    "                             (1/(sort(x,partial=length(x))[length(x)]))+\n",
    "                             (1/(sort(x,partial=length(x)-1)[length(x)-1])) +\n",
    "                             (1/(sort(x,partial=length(x)-2)[length(x)-2]))\n",
    "                        ) +\n",
    "                        ((1/(sort(x,partial=length(x)-2)[length(x)-2])))/\n",
    "                         (\n",
    "                             (1/(sort(x,partial=length(x))[length(x)]))+\n",
    "                             (1/(sort(x,partial=length(x)-1)[length(x)-1])) +\n",
    "                             (1/(sort(x,partial=length(x)-2)[length(x)-2]))\n",
    "                        )\n",
    "                    )\n",
    "                    *(x - newSignal)) \n",
    "                \n",
    "  # For each new strength (diffs), calculate the distance\n",
    "  dists = apply(diffs, 2, function(x) sqrt(sum(x^2)) )\n",
    "  closest = order(dists)\n",
    "  return(trainSubset[closest, 1:3])\n",
    "}\n",
    "\n",
    "         \n",
    "predXY_inverse = function(newSignals, newAngles, trainData, \n",
    "                  numAngles = 1, k = 3){\n",
    "  \n",
    "  closeXY = list(length = nrow(newSignals))\n",
    "  \n",
    "  for (i in 1:nrow(newSignals)) {\n",
    "    trainSS = selectTrain(newAngles[i], trainData, m = numAngles)\n",
    "    closeXY[[i]] = findNN_inverse(newSignal = as.numeric(newSignals[i, ]),\n",
    "                           trainSS)\n",
    "  }\n",
    "\n",
    "  estXY = lapply(closeXY, function(x)\n",
    "                            sapply(x[ , 2:3], \n",
    "                                   function(x) mean(x[1:k]))) \n",
    "\n",
    "  estXY = do.call(\"rbind\", estXY)\n",
    "  return(estXY)\n",
    "}"
   ]
  },
  {
   "cell_type": "code",
   "execution_count": 40,
   "metadata": {},
   "outputs": [],
   "source": [
    "# This applies function\n",
    "estXYk3 = predXY_inverse(newSignals = onlineSummary[ , 6:11],  \n",
    "                 newAngles = onlineSummary[ , 4], \n",
    "                 offlineSummary, numAngles = 3, k = 3)"
   ]
  },
  {
   "cell_type": "code",
   "execution_count": 41,
   "metadata": {},
   "outputs": [
    {
     "data": {
      "text/html": [
       "306.702522222222"
      ],
      "text/latex": [
       "306.702522222222"
      ],
      "text/markdown": [
       "306.702522222222"
      ],
      "text/plain": [
       "[1] 307"
      ]
     },
     "metadata": {},
     "output_type": "display_data"
    }
   ],
   "source": [
    "# Count errors in our predictions\n",
    "calcError(estXYk3, actualXY)"
   ]
  },
  {
   "cell_type": "markdown",
   "metadata": {},
   "source": [
    "> When using the weight of the 3 nearest neighbors our errors in predictions is 307"
   ]
  },
  {
   "cell_type": "markdown",
   "metadata": {},
   "source": [
    "To test to see if a greater number of neighbors will increase our predictive capabilities, we will apply the same method with 5 nearest neighbors."
   ]
  },
  {
   "cell_type": "code",
   "execution_count": 42,
   "metadata": {},
   "outputs": [],
   "source": [
    "# Edit functions to include weights for k=5\n",
    "findNN_inverse5 = function(newSignal, trainSubset) {\n",
    "  # For each MAC, subtract new signal strength from MAC signal strength\n",
    "  diffs = apply(trainSubset[ , 4:9], 1, \n",
    "                function(x) \n",
    "                    (\n",
    "                        (1/(sort(x,partial=length(x))[length(x)]))/\n",
    "                         (\n",
    "                             (1/(sort(x,partial=length(x))[length(x)]))+\n",
    "                             (1/(sort(x,partial=length(x)-1)[length(x)-1])) +\n",
    "                             (1/(sort(x,partial=length(x)-2)[length(x)-2])) +\n",
    "                             (1/(sort(x,partial=length(x)-1)[length(x)-3])) +\n",
    "                             (1/(sort(x,partial=length(x)-2)[length(x)-4])) \n",
    "                             \n",
    "                        ) +\n",
    "                        ((1/(sort(x,partial=length(x)-1)[length(x)-1])))/\n",
    "                         (\n",
    "                             (1/(sort(x,partial=length(x))[length(x)]))+\n",
    "                             (1/(sort(x,partial=length(x)-1)[length(x)-1])) +\n",
    "                             (1/(sort(x,partial=length(x)-2)[length(x)-2])) +\n",
    "                             (1/(sort(x,partial=length(x)-1)[length(x)-3])) +\n",
    "                             (1/(sort(x,partial=length(x)-2)[length(x)-4])) \n",
    "                        ) +\n",
    "                        ((1/(sort(x,partial=length(x)-2)[length(x)-2])))/\n",
    "                         (\n",
    "                             (1/(sort(x,partial=length(x))[length(x)]))+\n",
    "                             (1/(sort(x,partial=length(x)-1)[length(x)-1])) +\n",
    "                             (1/(sort(x,partial=length(x)-2)[length(x)-2])) +\n",
    "                             (1/(sort(x,partial=length(x)-1)[length(x)-3])) +\n",
    "                             (1/(sort(x,partial=length(x)-2)[length(x)-4])) \n",
    "                        ) +\n",
    "                        ((1/(sort(x,partial=length(x)-3)[length(x)-3])))/\n",
    "                         (\n",
    "                             (1/(sort(x,partial=length(x))[length(x)]))+\n",
    "                             (1/(sort(x,partial=length(x)-1)[length(x)-1])) +\n",
    "                             (1/(sort(x,partial=length(x)-2)[length(x)-2])) +\n",
    "                             (1/(sort(x,partial=length(x)-1)[length(x)-3])) +\n",
    "                             (1/(sort(x,partial=length(x)-2)[length(x)-4])) \n",
    "                        ) +\n",
    "                        ((1/(sort(x,partial=length(x)-4)[length(x)-4])))/\n",
    "                         (\n",
    "                             (1/(sort(x,partial=length(x))[length(x)]))+\n",
    "                             (1/(sort(x,partial=length(x)-1)[length(x)-1])) +\n",
    "                             (1/(sort(x,partial=length(x)-2)[length(x)-2])) +\n",
    "                             (1/(sort(x,partial=length(x)-1)[length(x)-3])) +\n",
    "                             (1/(sort(x,partial=length(x)-2)[length(x)-4])) \n",
    "                        )\n",
    "                    )\n",
    "                    *(x - newSignal)) \n",
    "    # For each new strength (diffs), calculate the distance\n",
    "  dists = apply(diffs, 2, function(x) sqrt(sum(x^2)) )\n",
    "  closest = order(dists)\n",
    "  return(trainSubset[closest, 1:5])\n",
    "}\n",
    "\n",
    "         \n",
    "predXY_inverse5 = function(newSignals, newAngles, trainData, \n",
    "                  numAngles = 1, k = 5){\n",
    "  \n",
    "  closeXY = list(length = nrow(newSignals))\n",
    "  \n",
    "  for (i in 1:nrow(newSignals)) {\n",
    "    trainSS = selectTrain(newAngles[i], trainData, m = numAngles)\n",
    "    closeXY[[i]] = findNN_inverse5(newSignal = as.numeric(newSignals[i, ]),\n",
    "                           trainSS)\n",
    "  }\n",
    "\n",
    "  estXY = lapply(closeXY, function(x)\n",
    "                            sapply(x[ , 2:3], \n",
    "                                   function(x) mean(x[1:k]))) \n",
    "                                   \n",
    "  estXY = do.call(\"rbind\", estXY)\n",
    "  return(estXY)\n",
    "}"
   ]
  },
  {
   "cell_type": "code",
   "execution_count": 43,
   "metadata": {},
   "outputs": [],
   "source": [
    "# This applies function\n",
    "estXYk5 = predXY_inverse5(newSignals = onlineSummary[ , 6:11],  \n",
    "                 newAngles = onlineSummary[ , 4], \n",
    "                 offlineSummary, numAngles = 3, k = 5)"
   ]
  },
  {
   "cell_type": "code",
   "execution_count": 44,
   "metadata": {},
   "outputs": [
    {
     "data": {
      "text/html": [
       "290.8923"
      ],
      "text/latex": [
       "290.8923"
      ],
      "text/markdown": [
       "290.8923"
      ],
      "text/plain": [
       "[1] 291"
      ]
     },
     "metadata": {},
     "output_type": "display_data"
    }
   ],
   "source": [
    "# Count errors in our predictions\n",
    "calcError(estXYk5, actualXY)"
   ]
  },
  {
   "cell_type": "markdown",
   "metadata": {},
   "source": [
    "> When using the weights of the 5 nearest neighbors our errors in predictions is reduced to 291. This confirms what we learned from our sum of squared errors chart which showed a lower SSE for 5-6 neighbors than for 3 neighbors."
   ]
  },
  {
   "cell_type": "markdown",
   "metadata": {},
   "source": [
    "### <a name=\"Results\"></a>Results"
   ]
  },
  {
   "cell_type": "markdown",
   "metadata": {
    "collapsed": true
   },
   "source": [
    "When deciding which MAC address to keep, we looked at both the contour plot and the errors in prediction. The contour plots showed greater signal strength in the \"00:0f:a3:39:e1:c0\" MAC address than in the \"00:0f:a3:39:dd:cd\" address for the angles we tested with. The knn model we used to calculate prediction errors revealed that the \"cd\" MAC address produced less errors, but was only marginally better than the \"c0\" address. Given this slight difference in predictive capabilities using our first prediction model, we decided to keep the \"c0\" address due to its greater signal strength and continue the analysis with \"00:0f:a3:39:e1:c0\" as our access point.\n",
    "\n",
    "After we had our 6 access points we added weights based on signal strength to our knn model to try and improve its predictive capabilities. To compare the differences in accuracy of models based on the number of nearest neighbors it uses in the location calculation, we created two models; knn=3 and knn=5. The knn=5 model produced better predictions which confirmed our k-fold cross-validation check which showed that using 5 or 6 nearest neighbors would be more accurate than 3 nearest neighbors. While using 5 to 6 neighbors gives us better results than using 3 neighbors in a weighted model, the unweighted model still produced the best results."
   ]
  },
  {
   "cell_type": "markdown",
   "metadata": {},
   "source": [
    "### <a name=\"Conclusion\"></a>Conclusion"
   ]
  },
  {
   "cell_type": "markdown",
   "metadata": {
    "collapsed": true
   },
   "source": [
    "Our analysis into the two MAC addresses which both had signal strength positions that corresponded to the same access point resulted in the elimination of the same address proposed in the Nolan and Lang text. The additional look into the resulting k-nearest neighbor predictions, as well as analysis of signal strengths through the use of contour plots, allowed us to more confidently state which MAC address was the one mapped to the contested access point.\n",
    "\n",
    "Next, the use of k-fold cross-validation enabled us to determine the number of nearest neighbors to use for our prediction model. While we were able to successfully determine how to improve the predictions of our knn model by tuning the number of neighbors we applied weights to, we were unable to use this model to produce better predictions than the unweighted model. To improve our predictions, it might be helpful to use different distance calculation methods or a different weighting function."
   ]
  },
  {
   "cell_type": "markdown",
   "metadata": {},
   "source": [
    "### <a name=\"References\"></a>References"
   ]
  },
  {
   "cell_type": "markdown",
   "metadata": {},
   "source": [
    "Nolan, D, and D.T. Lang. Data Science in R: A Case Studies Approach to Computational Reasoning and Problem Solving. CRC Press, 2015, books.google.com.sa/books?id=r_0YCwAAQBAJ."
   ]
  }
 ],
 "metadata": {
  "kernelspec": {
   "display_name": "R",
   "language": "R",
   "name": "ir"
  },
  "language_info": {
   "codemirror_mode": "r",
   "file_extension": ".r",
   "mimetype": "text/x-r-source",
   "name": "R",
   "pygments_lexer": "r",
   "version": "3.4.2"
  }
 },
 "nbformat": 4,
 "nbformat_minor": 2
}
